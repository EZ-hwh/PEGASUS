{
 "cells": [
  {
   "cell_type": "code",
   "execution_count": 1,
   "metadata": {},
   "outputs": [
    {
     "name": "stderr",
     "output_type": "stream",
     "text": [
      "2022-04-10 14:02:00.516579: I tensorflow/stream_executor/platform/default/dso_loader.cc:49] Successfully opened dynamic library libcudart.so.11.0\n"
     ]
    }
   ],
   "source": [
    "from transformers import PegasusForConditionalGeneration, PegasusTokenizer\n",
    "from datasets import load_dataset, list_datasets, load_metric, list_metrics\n",
    "import torch\n",
    "from tqdm import tqdm\n",
    "from transformers import DataCollatorWithPadding\n",
    "from torch.utils.data import DataLoader"
   ]
  },
  {
   "cell_type": "code",
   "execution_count": 2,
   "metadata": {},
   "outputs": [],
   "source": [
    "# Params\n",
    "batch_size = 8\n"
   ]
  },
  {
   "cell_type": "code",
   "execution_count": 3,
   "metadata": {},
   "outputs": [],
   "source": [
    "# Model and tokenizer\n",
    "model_name = \"google/pegasus-cnn_dailymail\"\n",
    "device = \"cuda:3\" if torch.cuda.is_available() else \"cpu\"\n",
    "tokenizer = PegasusTokenizer.from_pretrained(model_name)\n",
    "model = PegasusForConditionalGeneration.from_pretrained(model_name).to(device)"
   ]
  },
  {
   "cell_type": "code",
   "execution_count": 4,
   "metadata": {},
   "outputs": [
    {
     "name": "stderr",
     "output_type": "stream",
     "text": [
      "Reusing dataset cnn_dailymail (/home/huangwenhao/.cache/huggingface/datasets/ccdv___cnn_dailymail/3.0.0/3.0.0/0107f7388b5c6fae455a5661bcd134fc22da53ea75852027040d8d1e997f101f)\n"
     ]
    }
   ],
   "source": [
    "# Load data\n",
    "#xsum_train = load_dataset('xsum', split='train')\n",
    "#xsum_valid = load_dataset('xsum', split='validation')\n",
    "cnn_test = load_dataset('ccdv/cnn_dailymail','3.0.0', split='test')"
   ]
  },
  {
   "cell_type": "code",
   "execution_count": 5,
   "metadata": {},
   "outputs": [
    {
     "data": {
      "text/plain": [
       "{'article': '(CNN)James Best, best known for his portrayal of bumbling sheriff Rosco P. Coltrane on TV\\'s \"The Dukes of Hazzard,\" died Monday after a brief illness. He was 88. Best died in hospice in Hickory, North Carolina, of complications from pneumonia, said Steve Latshaw, a longtime friend and Hollywood colleague. Although he\\'d been a busy actor for decades in theater and in Hollywood, Best didn\\'t become famous until 1979, when \"The Dukes of Hazzard\\'s\" cornpone charms began beaming into millions of American homes almost every Friday night. For seven seasons, Best\\'s Rosco P. Coltrane chased the moonshine-running Duke boys back and forth across the back roads of fictitious Hazzard County, Georgia, although his \"hot pursuit\" usually ended with him crashing his patrol car. Although Rosco was slow-witted and corrupt, Best gave him a childlike enthusiasm that got laughs and made him endearing. His character became known for his distinctive \"kew-kew-kew\" chuckle and for goofy catchphrases such as \"cuff \\'em and stuff \\'em!\" upon making an arrest. Among the most popular shows on TV in the early \\'80s, \"The Dukes of Hazzard\" ran until 1985 and spawned TV movies, an animated series and video games. Several of Best\\'s \"Hazzard\" co-stars paid tribute to the late actor on social media. \"I laughed and learned more from Jimmie in one hour than from anyone else in a whole year,\" co-star John Schneider, who played Bo Duke, said on Twitter. \"Give Uncle Jesse my love when you see him dear friend.\" \"Jimmy Best was the most constantly creative person I have ever known,\" said Ben Jones, who played mechanic Cooter on the show, in a Facebook post. \"Every minute of his long life was spent acting, writing, producing, painting, teaching, fishing, or involved in another of his life\\'s many passions.\" Born Jewel Guy on July 26, 1926, in Powderly, Kentucky, Best was orphaned at 3 and adopted by Armen and Essa Best, who renamed him James and raised him in rural Indiana. Best served in the Army during World War II before launching his acting career. In the 1950s and 1960s, he accumulated scores of credits, playing a range of colorful supporting characters in such TV shows as \"The Twilight Zone,\" \"Bonanza,\" \"The Andy Griffith Show\" and \"Gunsmoke.\" He later appeared in a handful of Burt Reynolds\\' movies, including \"Hooper\" and \"The End.\" But Best will always be best known for his \"Hazzard\" role, which lives on in reruns. \"Jimmie was my teacher, mentor, close friend and collaborator for 26 years,\" Latshaw said. \"I directed two of his feature films, including the recent \\'Return of the Killer Shrews,\\' a sequel he co-wrote and was quite proud of as he had made the first one more than 50 years earlier.\" People we\\'ve lost in 2015 . CNN\\'s Stella Chan contributed to this story.',\n",
       " 'highlights': 'James Best, who played the sheriff on \"The Dukes of Hazzard,\" died Monday at 88 .\\n\"Hazzard\" ran from 1979 to 1985 and was among the most popular shows on TV .',\n",
       " 'id': '00200e794fa41d3f7ce92cbf43e9fd4cd652bb09'}"
      ]
     },
     "execution_count": 5,
     "metadata": {},
     "output_type": "execute_result"
    }
   ],
   "source": [
    "cnn_test[0]"
   ]
  },
  {
   "cell_type": "code",
   "execution_count": 6,
   "metadata": {},
   "outputs": [
    {
     "name": "stderr",
     "output_type": "stream",
     "text": [
      "Loading cached processed dataset at /home/huangwenhao/.cache/huggingface/datasets/ccdv___cnn_dailymail/3.0.0/3.0.0/0107f7388b5c6fae455a5661bcd134fc22da53ea75852027040d8d1e997f101f/cache-089151cda8e74f79.arrow\n"
     ]
    }
   ],
   "source": [
    "# Data preprocess\n",
    "#print(tokenizer(xsum_valid[0]['document'],truncation=True, padding=\"longest\", return_tensors=\"pt\"))\n",
    "#valid_dataset = xsum_valid.map(lambda e: tokenizer(e['document'],truncation=True, padding=\"longest\"), batch_size=batch_size, batched=True)\n",
    "test_dataset = cnn_test.map(lambda e: tokenizer(e['article'],truncation=True, padding=\"longest\"), batch_size=batch_size, batched=True)\n",
    "#valid_dataset.set_format(type='torch', columns=['input_ids', 'attention_mask'])\n",
    "test_dataset.set_format(type='torch', columns=['input_ids', 'attention_mask'])\n"
   ]
  },
  {
   "cell_type": "code",
   "execution_count": 7,
   "metadata": {},
   "outputs": [],
   "source": [
    "#valid_ld = DataLoader(valid_dataset, batch_size=batch_size, shuffle=False)\n",
    "test_ld = DataLoader(test_dataset, batch_size=batch_size, shuffle=False)"
   ]
  },
  {
   "cell_type": "code",
   "execution_count": 8,
   "metadata": {},
   "outputs": [],
   "source": [
    "max_len = 0\n",
    "for batch in test_ld:\n",
    "    max_len = max(max_len,batch['input_ids'].shape[1])"
   ]
  },
  {
   "cell_type": "code",
   "execution_count": 9,
   "metadata": {},
   "outputs": [
    {
     "data": {
      "text/plain": [
       "1024"
      ]
     },
     "execution_count": 9,
     "metadata": {},
     "output_type": "execute_result"
    }
   ],
   "source": [
    "max_len"
   ]
  },
  {
   "cell_type": "code",
   "execution_count": 10,
   "metadata": {},
   "outputs": [
    {
     "name": "stderr",
     "output_type": "stream",
     "text": [
      "100%|██████████| 1437/1437 [1:42:59<00:00,  4.30s/it]\n"
     ]
    }
   ],
   "source": [
    "test_predict = []\n",
    "for batch in tqdm(test_ld):\n",
    "    #print(batch['input_ids'].shape)\n",
    "    batch = {x:y.to(device) for x,y in batch.items()}\n",
    "    #print(batch)\n",
    "    translated = model.generate(**batch)\n",
    "    test_predict.extend(tokenizer.batch_decode(translated, skip_special_tokens=True, max_len=128))"
   ]
  },
  {
   "cell_type": "code",
   "execution_count": 11,
   "metadata": {},
   "outputs": [
    {
     "name": "stdout",
     "output_type": "stream",
     "text": [
      "125\n"
     ]
    }
   ],
   "source": [
    "max_len = 0\n",
    "for s in test_predict:\n",
    "    max_len = max(max_len, len(tokenizer.tokenize(s)))\n",
    "print(max_len)"
   ]
  },
  {
   "cell_type": "code",
   "execution_count": 15,
   "metadata": {},
   "outputs": [
    {
     "name": "stdout",
     "output_type": "stream",
     "text": [
      "2931\n"
     ]
    }
   ],
   "source": [
    "max_len = 0\n",
    "for s in cnn_test['article']:\n",
    "    max_len = max(max_len, len(tokenizer.tokenize(s)))\n",
    "print(max_len)\n"
   ]
  },
  {
   "cell_type": "code",
   "execution_count": 22,
   "metadata": {},
   "outputs": [
    {
     "name": "stdout",
     "output_type": "stream",
     "text": [
      "{'rouge1': AggregateScore(low=Score(precision=0.39798612545719997, recall=0.4652249024453509, fmeasure=0.4167414644896658), mid=Score(precision=0.40047348757893625, recall=0.4679537979883459, fmeasure=0.4189110684348778), high=Score(precision=0.4030078241252382, recall=0.4705172512972913, fmeasure=0.4210992316564528)), 'rouge2': AggregateScore(low=Score(precision=0.19206276184131177, recall=0.22278394576855678, fmeasure=0.20023631100621667), mid=Score(precision=0.19447389175080337, recall=0.22571979566088857, fmeasure=0.20270136553064427), high=Score(precision=0.1969671639045246, recall=0.22838000744427847, fmeasure=0.20530494049373088)), 'rougeL': AggregateScore(low=Score(precision=0.2829065466577277, recall=0.33129641351980643, fmeasure=0.296421694667873), mid=Score(precision=0.2854077222476798, recall=0.3337014115549679, fmeasure=0.2986296996461908), high=Score(precision=0.28793935118177966, recall=0.33644750605785556, fmeasure=0.30104963867769563)), 'rougeLsum': AggregateScore(low=Score(precision=0.2829971890357449, recall=0.3310077615154341, fmeasure=0.2962758847453878), mid=Score(precision=0.28538191517555855, recall=0.33379914842338154, fmeasure=0.2986435927446901), high=Score(precision=0.2880706588473848, recall=0.3364780945572005, fmeasure=0.30105852221182977))}\n"
     ]
    }
   ],
   "source": [
    "#Metric\n",
    "Rouge = load_metric('rouge')\n",
    "result = Rouge.compute(predictions=test_predict, references=[tokenizer.convert_tokens_to_string(tokenizer.tokenize(s)[:125]) for s in cnn_test['highlights']])\n",
    "print(result)"
   ]
  },
  {
   "cell_type": "code",
   "execution_count": 20,
   "metadata": {},
   "outputs": [
    {
     "data": {
      "text/plain": [
       "'James Best, who played the sheriff on \"The Dukes of Hazzard,\" died Monday at 88 . \"Hazzard\" ran from 1979 to 1985 and was among the most popular shows on TV .'"
      ]
     },
     "execution_count": 20,
     "metadata": {},
     "output_type": "execute_result"
    }
   ],
   "source": [
    "tokenizer.convert_tokens_to_string(tokenizer.tokenize(cnn_test['highlights'][0]))"
   ]
  },
  {
   "cell_type": "code",
   "execution_count": null,
   "metadata": {},
   "outputs": [],
   "source": [
    "with open('predict_0.txt','w',encoding='utf-8') as f:\n",
    "    for i in test_predict:\n",
    "        f.write(i+'\\n')"
   ]
  },
  {
   "cell_type": "code",
   "execution_count": null,
   "metadata": {},
   "outputs": [],
   "source": []
  }
 ],
 "metadata": {
  "interpreter": {
   "hash": "22f3c13e4593fc7d82b380fe6e88ae0e60361bfe10f478d0fd0447177e41f35d"
  },
  "kernelspec": {
   "display_name": "Python 3.7.11 ('harry_torch')",
   "language": "python",
   "name": "python3"
  },
  "language_info": {
   "codemirror_mode": {
    "name": "ipython",
    "version": 3
   },
   "file_extension": ".py",
   "mimetype": "text/x-python",
   "name": "python",
   "nbconvert_exporter": "python",
   "pygments_lexer": "ipython3",
   "version": "3.7.11"
  },
  "orig_nbformat": 4
 },
 "nbformat": 4,
 "nbformat_minor": 2
}

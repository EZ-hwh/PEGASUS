{
 "cells": [
  {
   "cell_type": "code",
   "execution_count": 1,
   "metadata": {},
   "outputs": [
    {
     "name": "stderr",
     "output_type": "stream",
     "text": [
      "2022-04-10 19:03:06.818725: I tensorflow/stream_executor/platform/default/dso_loader.cc:49] Successfully opened dynamic library libcudart.so.11.0\n"
     ]
    }
   ],
   "source": [
    "from transformers import PegasusForConditionalGeneration, PegasusTokenizer\n",
    "from datasets import load_dataset, list_datasets, load_metric, list_metrics\n",
    "import torch\n",
    "from tqdm import tqdm\n",
    "from transformers import DataCollatorWithPadding\n",
    "from torch.utils.data import DataLoader"
   ]
  },
  {
   "cell_type": "code",
   "execution_count": 2,
   "metadata": {},
   "outputs": [],
   "source": [
    "# Params\n",
    "batch_size = 8\n"
   ]
  },
  {
   "cell_type": "code",
   "execution_count": 3,
   "metadata": {},
   "outputs": [],
   "source": [
    "# Model and tokenizer\n",
    "model_name = \"google/pegasus-cnn_dailymail\"\n",
    "device = \"cuda:2\" if torch.cuda.is_available() else \"cpu\"\n",
    "tokenizer = PegasusTokenizer.from_pretrained(model_name)\n",
    "model = PegasusForConditionalGeneration.from_pretrained(model_name).to(device)"
   ]
  },
  {
   "cell_type": "code",
   "execution_count": 4,
   "metadata": {},
   "outputs": [
    {
     "name": "stderr",
     "output_type": "stream",
     "text": [
      "Reusing dataset cnn_dailymail (/home/huangwenhao/.cache/huggingface/datasets/ccdv___cnn_dailymail/1.0.0/1.0.0/0107f7388b5c6fae455a5661bcd134fc22da53ea75852027040d8d1e997f101f)\n"
     ]
    }
   ],
   "source": [
    "# Load data\n",
    "#xsum_train = load_dataset('xsum', split='train')\n",
    "#xsum_valid = load_dataset('xsum', split='validation')\n",
    "xsum_test = load_dataset('ccdv/cnn_dailymail','3.0.0', split='test')"
   ]
  },
  {
   "cell_type": "code",
   "execution_count": 5,
   "metadata": {},
   "outputs": [
    {
     "name": "stderr",
     "output_type": "stream",
     "text": [
      "Loading cached processed dataset at /home/huangwenhao/.cache/huggingface/datasets/ccdv___cnn_dailymail/1.0.0/1.0.0/0107f7388b5c6fae455a5661bcd134fc22da53ea75852027040d8d1e997f101f/cache-b3e3564c736e665a.arrow\n"
     ]
    }
   ],
   "source": [
    "# Data preprocess\n",
    "#print(tokenizer(xsum_valid[0]['document'],truncation=True, padding=\"longest\", return_tensors=\"pt\"))\n",
    "#valid_dataset = xsum_valid.map(lambda e: tokenizer(e['document'],truncation=True, padding=\"longest\"), batch_size=batch_size, batched=True)\n",
    "#test_dataset = xsum_test.map(lambda e: tokenizer(e['document'],truncation=True, padding=\"longest\"), batch_size=batch_size, batched=True)\n",
    "\n",
    "test_dataset = xsum_test.map(lambda e: tokenizer(e['article'],truncation=True, padding=\"longest\"), batch_size=batch_size, batched=True)\n",
    "#valid_dataset.set_format(type='torch', columns=['input_ids', 'attention_mask'])\n",
    "test_dataset.set_format(type='torch', columns=['input_ids', 'attention_mask'])\n"
   ]
  },
  {
   "cell_type": "code",
   "execution_count": 6,
   "metadata": {},
   "outputs": [],
   "source": [
    "#valid_ld = DataLoader(valid_dataset, batch_size=batch_size, shuffle=False)\n",
    "test_ld = DataLoader(test_dataset, batch_size=batch_size, shuffle=False)"
   ]
  },
  {
   "cell_type": "code",
   "execution_count": 7,
   "metadata": {},
   "outputs": [
    {
     "name": "stderr",
     "output_type": "stream",
     "text": [
      "100%|██████████| 709/709 [26:25<00:00,  2.24s/it]\n"
     ]
    }
   ],
   "source": [
    "valid_predict = []\n",
    "for batch in tqdm(valid_ld):\n",
    "    #print(batch['input_ids'].shape)\n",
    "    batch = {x:y.to(device) for x,y in batch.items()}\n",
    "    #print(batch)\n",
    "    translated = model.generate(**batch)\n",
    "    valid_predict.extend(tokenizer.batch_decode(translated, skip_special_tokens=True))"
   ]
  },
  {
   "cell_type": "code",
   "execution_count": 7,
   "metadata": {},
   "outputs": [
    {
     "name": "stderr",
     "output_type": "stream",
     "text": [
      "100%|██████████| 1437/1437 [1:44:24<00:00,  4.36s/it]\n"
     ]
    }
   ],
   "source": [
    "test_predict = []\n",
    "for batch in tqdm(test_ld):\n",
    "    #print(batch['input_ids'].shape)\n",
    "    batch = {x:y.to(device) for x,y in batch.items()}\n",
    "    #print(batch)\n",
    "    translated = model.generate(**batch)\n",
    "    test_predict.extend(tokenizer.batch_decode(translated, skip_special_tokens=True))"
   ]
  },
  {
   "cell_type": "code",
   "execution_count": 50,
   "metadata": {},
   "outputs": [],
   "source": [
    "src_text = [\n",
    "    \"\"\" PG&E stated it scheduled the blackouts in response to forecasts for high winds amid dry conditions. The aim is to reduce the risk of wildfires. Nearly 800 thousand customers were scheduled to be affected by the shutoffs which were expected to last through at least midday tomorrow.\"\"\"\n",
    "]\n",
    "batch = tokenizer(src_text, truncation=True, padding=\"longest\", return_tensors=\"pt\").to(device)\n",
    "\n",
    "\n",
    "translated = model.generate(**batch)\n",
    "tgt_text = tokenizer.batch_decode(translated, skip_special_tokens=True)"
   ]
  },
  {
   "cell_type": "code",
   "execution_count": 20,
   "metadata": {},
   "outputs": [
    {
     "data": {
      "text/plain": [
       "['\"I laughed and learned more from Jimmie in one hour than from anyone else,\" says \"Hazzard\" co-star John Schneider.<n>James Best played bumbling sheriff Rosco P. Coltrane on \"The Dukes of Hazzard\"',\n",
       " 'Dr. Anthony Moschetto is charged in what authorities say was a failed plot to have another physician hurt or killed.<n>\"None of anything in this case has any evidentiary value,\" his attorney says.',\n",
       " \"CNN's John Sutter sat down with President Obama for a one-on-one interview.<n>He asked him about the science behind climate change and public health.<n>The President encouraged ordinary citizens, doctors and nurses to start putting some pressure on elected officials.\",\n",
       " 'A Russian TV channel aired Hillary Clinton\\'s first campaign video with a rating stamp that means it\\'s for mature audiences.<n>A clip of the video, which features a gay couple holding hands, got the 18+ rating from the independent TV Rain channel.<n>The channel told CNN that it didn\\'t want to break the controversial law, which bans \"propaganda of nontraditional sexual relations around minors\"',\n",
       " 'Marco Rubio announced he is running for president.<n>Ruben Navarrette: Rubio has been his own worst enemy on what could have been his signature issues.',\n",
       " '\"Orphan Black\" returns for its third season on April 18.<n>\"Turn: Washington\\'s Spies\" returns Monday.<n>\"Game of Thrones\" returns Sunday.',\n",
       " 'Passenger: \"All of a sudden we heard all this pounding underneath the plane\"<n>\"I feel like it\\'s up moving in the air,\" the caller says.<n>The pilot radioed air traffic control and said he would make an emergency landing.',\n",
       " \"Omar was famously camera-shy during the Taliban's six-year rule over most of Afghanistan.<n>Several Afghan observers say the biography is aimed at dispelling rumors of Omar's demise.\",\n",
       " 'Michelle MacLaren is leaving the \"Wonder Woman\" movie.<n>She was announced as director in November.<n>The movie is still set for release in 2017.',\n",
       " 'Southern Monitoring Alarm Company called police at 12:21 a.m. April 3.<n>\"A grade was applied to the call that meant that no police response was deemed to be required,\" police say.<n>The theft was so big that police haven\\'t come up with a value for what was stolen.']"
      ]
     },
     "execution_count": 20,
     "metadata": {},
     "output_type": "execute_result"
    }
   ],
   "source": [
    "test_predict[:10]"
   ]
  },
  {
   "cell_type": "code",
   "execution_count": 19,
   "metadata": {},
   "outputs": [
    {
     "data": {
      "text/plain": [
       "['James Best, who played the sheriff on \"The Dukes of Hazzard,\" died Monday at 88 . \"Hazzard\" ran from 1979 to 1985 and was among the most popular shows on TV .',\n",
       " 'A lawyer for Dr. Anthony Moschetto says the charges against him are baseless . Moschetto, 54, was arrested for selling drugs and weapons, prosecutors say . Authorities allege Moschetto hired accomplices to burn down the practice of former associate .',\n",
       " '\"No challenge poses more of a public threat than climate change,\" the President says . He credits the Clean Air Act with making Americans \"a lot\" healthier .',\n",
       " \"Presidential hopeful's video, featuring gay couple, gets mature rating in Russia . Russian TV channel feared airing it would break the country's anti-gay propaganda law . Clinton announced her support for same-sex marriage in 2013 .\",\n",
       " \"Raul Reyes: In seeking Latino vote, Marco Rubio his own worst enemy on two key issues: immigration reform, Cuba relations . He says on health care, climate change and other issues, he breaks from Latinos' positions. Polls show they don't favor him .\",\n",
       " 'Critically acclaimed series \"Orphan Black\" returns . \"Turn: Washington\\'s Spies\" starts a second season . \"Game of Thrones\" is back for season five .',\n",
       " \"The ramp agent fell asleep in the plane's cargo hold . He can no longer work on Alaska Airlines flights .\",\n",
       " 'Mullah Omar, the reclusive founder of the Afghan Taliban, is still in charge, a new biography claims . An ex-Taliban insider says there have been rumors that the one-eyed militant is dead .',\n",
       " 'Michelle MacLaren is no longer set to direct the first \"Wonder Woman\" theatrical movie . MacLaren left the project over \"creative differences\" Movie is currently set for 2017 .',\n",
       " \"British tabloid releases video it says shows the robbery being carried out . British police say they didn't respond to a burglar alarm in jewelry district . Police give no value of the amount taken in the heist in London's jewelry district .\"]"
      ]
     },
     "execution_count": 19,
     "metadata": {},
     "output_type": "execute_result"
    }
   ],
   "source": [
    "xsum_test['highlights'][:10]"
   ]
  },
  {
   "cell_type": "code",
   "execution_count": 21,
   "metadata": {},
   "outputs": [
    {
     "name": "stdout",
     "output_type": "stream",
     "text": [
      "{'rouge1': AggregateScore(low=Score(precision=0.39772253224976767, recall=0.4651015078073494, fmeasure=0.4165496928304979), mid=Score(precision=0.4004648470303975, recall=0.4679978523142452, fmeasure=0.4189722014293267), high=Score(precision=0.403188436133444, recall=0.4708428967445666, fmeasure=0.4214240252205675)), 'rouge2': AggregateScore(low=Score(precision=0.19195002049237347, recall=0.22294554804299171, fmeasure=0.2001840360691533), mid=Score(precision=0.1943959145899981, recall=0.22552212112230757, fmeasure=0.2026123566478052), high=Score(precision=0.19691520457198555, recall=0.2283083467016058, fmeasure=0.20512438928062812)), 'rougeL': AggregateScore(low=Score(precision=0.28302725448104965, recall=0.33112382365638643, fmeasure=0.29649984925005723), mid=Score(precision=0.2853817948420493, recall=0.3338381561898218, fmeasure=0.2986779331210263), high=Score(precision=0.2880322689032132, recall=0.33659922587129976, fmeasure=0.30117401430473656)), 'rougeLsum': AggregateScore(low=Score(precision=0.2830000655328441, recall=0.3312429492086607, fmeasure=0.2964282691051292), mid=Score(precision=0.28543034686736835, recall=0.33384911584111276, fmeasure=0.2986717933237105), high=Score(precision=0.28791241107091253, recall=0.33643300655569164, fmeasure=0.3009916193116955))}\n"
     ]
    }
   ],
   "source": [
    "#Metric\n",
    "Rouge = load_metric('rouge')\n",
    "result = Rouge.compute(predictions=test_predict, references=[tokenizer.convert_tokens_to_string(tokenizer.tokenize(s)[:125]) for s in xsum_test['highlights']])\n",
    "print(result)"
   ]
  },
  {
   "cell_type": "code",
   "execution_count": 2,
   "metadata": {},
   "outputs": [
    {
     "ename": "NameError",
     "evalue": "name 'rouge' is not defined",
     "output_type": "error",
     "traceback": [
      "\u001b[0;31m---------------------------------------------------------------------------\u001b[0m",
      "\u001b[0;31mNameError\u001b[0m                                 Traceback (most recent call last)",
      "\u001b[0;32m/tmp/ipykernel_1866/2488474135.py\u001b[0m in \u001b[0;36m<module>\u001b[0;34m\u001b[0m\n\u001b[1;32m      1\u001b[0m \u001b[0;32mfrom\u001b[0m \u001b[0mrouge\u001b[0m \u001b[0;32mimport\u001b[0m \u001b[0mRouge\u001b[0m\u001b[0;34m\u001b[0m\u001b[0;34m\u001b[0m\u001b[0m\n\u001b[0;32m----> 2\u001b[0;31m \u001b[0mrouge_score\u001b[0m \u001b[0;34m=\u001b[0m \u001b[0mrouge\u001b[0m\u001b[0;34m.\u001b[0m\u001b[0mget_scores\u001b[0m\u001b[0;34m(\u001b[0m\u001b[0mtest_predict\u001b[0m\u001b[0;34m,\u001b[0m \u001b[0;34m[\u001b[0m\u001b[0mtokenizer\u001b[0m\u001b[0;34m.\u001b[0m\u001b[0mconvert_tokens_to_string\u001b[0m\u001b[0;34m(\u001b[0m\u001b[0mtokenizer\u001b[0m\u001b[0;34m.\u001b[0m\u001b[0mtokenize\u001b[0m\u001b[0;34m(\u001b[0m\u001b[0ms\u001b[0m\u001b[0;34m)\u001b[0m\u001b[0;34m[\u001b[0m\u001b[0;34m:\u001b[0m\u001b[0;36m125\u001b[0m\u001b[0;34m]\u001b[0m\u001b[0;34m)\u001b[0m \u001b[0;32mfor\u001b[0m \u001b[0ms\u001b[0m \u001b[0;32min\u001b[0m \u001b[0mxsum_test\u001b[0m\u001b[0;34m[\u001b[0m\u001b[0;34m'highlights'\u001b[0m\u001b[0;34m]\u001b[0m\u001b[0;34m]\u001b[0m\u001b[0;34m)\u001b[0m\u001b[0;34m\u001b[0m\u001b[0;34m\u001b[0m\u001b[0m\n\u001b[0m",
      "\u001b[0;31mNameError\u001b[0m: name 'rouge' is not defined"
     ]
    }
   ],
   "source": [
    "from rouge import Rouge\n",
    "rouge_score = rouge.get_scores(test_predict, [tokenizer.convert_tokens_to_string(tokenizer.tokenize(s)[:125]) for s in xsum_test['highlights']])"
   ]
  },
  {
   "cell_type": "code",
   "execution_count": 12,
   "metadata": {},
   "outputs": [],
   "source": [
    "with open('predict.txt','w',encoding='utf-8') as f:\n",
    "    for i in [tokenizer.convert_tokens_to_string(tokenizer.tokenize(s)[:125]) for s in xsum_test['highlights']]:\n",
    "        f.write(i+'\\n')"
   ]
  },
  {
   "cell_type": "code",
   "execution_count": null,
   "metadata": {},
   "outputs": [],
   "source": []
  }
 ],
 "metadata": {
  "interpreter": {
   "hash": "22f3c13e4593fc7d82b380fe6e88ae0e60361bfe10f478d0fd0447177e41f35d"
  },
  "kernelspec": {
   "display_name": "Python 3.7.11 ('harry_torch')",
   "language": "python",
   "name": "python3"
  },
  "language_info": {
   "codemirror_mode": {
    "name": "ipython",
    "version": 3
   },
   "file_extension": ".py",
   "mimetype": "text/x-python",
   "name": "python",
   "nbconvert_exporter": "python",
   "pygments_lexer": "ipython3",
   "version": "3.7.11"
  },
  "orig_nbformat": 4
 },
 "nbformat": 4,
 "nbformat_minor": 2
}
